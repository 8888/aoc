{
 "cells": [
  {
   "cell_type": "markdown",
   "metadata": {},
   "source": [
    "# 2015 - 01\n",
    "Superposition: Represent each character from the input as a quantum state\n",
    "- $|0⟩$ represents `(` (up + 1)\n",
    "- $|1⟩$ represents `)` (down - 1)\n",
    "\n",
    "Quantum Encoding: Encode the input as qubits in a register\n",
    "\n",
    "Simulate adding or subtracting based on the qubit states\n",
    "\n",
    "Measure the final result to collapse the quantum states to a classical output\n",
    "\n",
    "There is no benefit to using quantum computing for this problem, it's actually quite a hinderence. For large inputs, we'll work in chunks to avoid the exponential growth of the quantum state space."
   ]
  },
  {
   "cell_type": "code",
   "execution_count": 117,
   "metadata": {},
   "outputs": [],
   "source": [
    "from IPython.display import display\n",
    "from qiskit import QuantumCircuit\n",
    "from qiskit_aer import AerSimulator\n",
    "from qiskit.compiler import transpile\n",
    "\n",
    "def run_circuit(instructions, draw=False):\n",
    "  # encode as quantum states\n",
    "  numOfInstructions = len(instructions)\n",
    "  circuit = QuantumCircuit(numOfInstructions, numOfInstructions)\n",
    "\n",
    "  # init qubits to represent instructions\n",
    "  for i, char in enumerate(instructions):\n",
    "    # ( is already encoded correctly as |0⟩\n",
    "    # when ), apply an X gate to flip the qubit to |1⟩\n",
    "    if (char == ')'):\n",
    "      circuit.x(i)\n",
    "\n",
    "  if (draw):\n",
    "    display(circuit.draw('mpl'))\n",
    "\n",
    "  circuit.measure(range(numOfInstructions), range(numOfInstructions))\n",
    "  simulator = AerSimulator()\n",
    "  compiled_circuit = transpile(circuit, simulator)\n",
    "  result = simulator.run(compiled_circuit, shots=1).result()\n",
    "  measurement = result.get_counts()\n",
    "\n",
    "  if (draw):\n",
    "    print(compiled_circuit.draw())\n",
    "    print(measurement)\n",
    "\n",
    "  return measurement\n",
    "\n",
    "def silver(instructions, draw=False):\n",
    "  measurement = run_circuit(instructions, draw)\n",
    "\n",
    "  final_floor = 0\n",
    "  for key in measurement:\n",
    "    for i, bit in enumerate(key[::-1]): # reverse order to start with LSB\n",
    "      if (bit == '0'):\n",
    "        final_floor += 1\n",
    "      else:\n",
    "        final_floor -= 1\n",
    "\n",
    "  return final_floor\n",
    "\n",
    "def gold(instructions, starting_floor, draw=False):\n",
    "  measurement = run_circuit(instructions, draw)\n",
    "\n",
    "  final_floor = starting_floor\n",
    "  for key in measurement:\n",
    "    for i, bit in enumerate(key[::-1]):\n",
    "      if (bit == '0'):\n",
    "        final_floor += 1\n",
    "      else:\n",
    "        final_floor -= 1\n",
    "\n",
    "      if (final_floor == -1):\n",
    "        return {'found': True, 'position': i + 1}\n",
    "\n",
    "  return {'found': False, 'floor': final_floor}"
   ]
  },
  {
   "cell_type": "code",
   "execution_count": 118,
   "metadata": {},
   "outputs": [
    {
     "data": {
      "image/png": "[encoded data removed]",
      "text/plain": [
       "<Figure size 203.885x702.333 with 1 Axes>"
      ]
     },
     "metadata": {},
     "output_type": "display_data"
    },
    {
     "name": "stdout",
     "output_type": "stream",
     "text": [
      "          ┌─┐               \n",
      "q_0: ─────┤M├───────────────\n",
      "          └╥┘┌─┐            \n",
      "q_1: ──────╫─┤M├────────────\n",
      "     ┌───┐ ║ └╥┘      ┌─┐   \n",
      "q_2: ┤ X ├─╫──╫───────┤M├───\n",
      "     └───┘ ║  ║ ┌─┐   └╥┘   \n",
      "q_3: ──────╫──╫─┤M├────╫────\n",
      "           ║  ║ └╥┘┌─┐ ║    \n",
      "q_4: ──────╫──╫──╫─┤M├─╫────\n",
      "     ┌───┐ ║  ║  ║ └╥┘ ║ ┌─┐\n",
      "q_5: ┤ X ├─╫──╫──╫──╫──╫─┤M├\n",
      "     └┬─┬┘ ║  ║  ║  ║  ║ └╥┘\n",
      "q_6: ─┤M├──╫──╫──╫──╫──╫──╫─\n",
      "      └╥┘  ║  ║  ║  ║  ║  ║ \n",
      "c: 7/══╩═══╩══╩══╩══╩══╩══╩═\n",
      "       6   0  1  3  4  2  5 \n",
      "{'0100100': 1}\n",
      "\n",
      "The final floor is 3\n"
     ]
    }
   ],
   "source": [
    "instructions = \"(()(()(\"\n",
    "final_floor = silver(instructions, draw=True)\n",
    "print(f\"\\nThe final floor is {final_floor}\")"
   ]
  },
  {
   "cell_type": "code",
   "execution_count": 119,
   "metadata": {},
   "outputs": [
    {
     "data": {
      "image/png": "[encoded data removed]",
      "text/plain": [
       "<Figure size 203.885x702.333 with 1 Axes>"
      ]
     },
     "metadata": {},
     "output_type": "display_data"
    },
    {
     "name": "stdout",
     "output_type": "stream",
     "text": [
      "     ┌───┐      ┌─┐            \n",
      "q_0: ┤ X ├──────┤M├────────────\n",
      "     └───┘┌─┐   └╥┘            \n",
      "q_1: ─────┤M├────╫─────────────\n",
      "     ┌───┐└╥┘    ║ ┌─┐         \n",
      "q_2: ┤ X ├─╫─────╫─┤M├─────────\n",
      "     ├───┤ ║     ║ └╥┘┌─┐      \n",
      "q_3: ┤ X ├─╫─────╫──╫─┤M├──────\n",
      "     └───┘ ║ ┌─┐ ║  ║ └╥┘      \n",
      "q_4: ──────╫─┤M├─╫──╫──╫───────\n",
      "     ┌───┐ ║ └╥┘ ║  ║  ║ ┌─┐   \n",
      "q_5: ┤ X ├─╫──╫──╫──╫──╫─┤M├───\n",
      "     ├───┤ ║  ║  ║  ║  ║ └╥┘┌─┐\n",
      "q_6: ┤ X ├─╫──╫──╫──╫──╫──╫─┤M├\n",
      "     └───┘ ║  ║  ║  ║  ║  ║ └╥┘\n",
      "c: 7/══════╩══╩══╩══╩══╩══╩══╩═\n",
      "           1  4  0  2  3  5  6 \n",
      "{'1101101': 1}\n",
      "\n",
      "The final floor is -3\n"
     ]
    }
   ],
   "source": [
    "instructions = \")())())\"\n",
    "final_floor = silver(instructions, draw=True)\n",
    "print(f\"\\nThe final floor is {final_floor}\")"
   ]
  },
  {
   "cell_type": "code",
   "execution_count": 120,
   "metadata": {},
   "outputs": [
    {
     "name": "stdout",
     "output_type": "stream",
     "text": [
      "Silver result!\n",
      "The final floor is 74\n"
     ]
    }
   ],
   "source": [
    "with open('01.txt', 'r') as file:\n",
    "  instructions = file.read().strip()\n",
    "\n",
    "chunk_size = 25\n",
    "chunks = [instructions[i:i + chunk_size] for i in range(0, len(instructions), chunk_size)]\n",
    "\n",
    "final_floor = 0\n",
    "for chunk in chunks:\n",
    "  final_floor += silver(chunk)\n",
    "\n",
    "print(\"Silver result!\")\n",
    "print(f\"The final floor is {final_floor}\")"
   ]
  },
  {
   "cell_type": "code",
   "execution_count": 121,
   "metadata": {},
   "outputs": [
    {
     "data": {
      "image/png": "[encoded data removed]",
      "text/plain": [
       "<Figure size 203.885x535.111 with 1 Axes>"
      ]
     },
     "metadata": {},
     "output_type": "display_data"
    },
    {
     "name": "stdout",
     "output_type": "stream",
     "text": [
      "          ┌─┐            \n",
      "q_0: ─────┤M├────────────\n",
      "     ┌───┐└╥┘   ┌─┐      \n",
      "q_1: ┤ X ├─╫────┤M├──────\n",
      "     └───┘ ║ ┌─┐└╥┘      \n",
      "q_2: ──────╫─┤M├─╫───────\n",
      "     ┌───┐ ║ └╥┘ ║ ┌─┐   \n",
      "q_3: ┤ X ├─╫──╫──╫─┤M├───\n",
      "     ├───┤ ║  ║  ║ └╥┘┌─┐\n",
      "q_4: ┤ X ├─╫──╫──╫──╫─┤M├\n",
      "     └───┘ ║  ║  ║  ║ └╥┘\n",
      "c: 5/══════╩══╩══╩══╩══╩═\n",
      "           0  2  1  3  4 \n",
      "{'11010': 1}\n",
      "\n",
      "Enters the basement at floor 5\n"
     ]
    }
   ],
   "source": [
    "instructions = \"()())\"\n",
    "result = gold(instructions, 0, True)\n",
    "print(f\"\\nEnters the basement at floor {result['position']}\")"
   ]
  },
  {
   "cell_type": "code",
   "execution_count": 122,
   "metadata": {},
   "outputs": [
    {
     "name": "stdout",
     "output_type": "stream",
     "text": [
      "Gold result!\n",
      "\n",
      "Enters the basement at position 1795\n"
     ]
    }
   ],
   "source": [
    "with open('01.txt', 'r') as file:\n",
    "  instructions = file.read().strip()\n",
    "\n",
    "chunk_size = 25\n",
    "chunks = [instructions[i:i + chunk_size] for i in range(0, len(instructions), chunk_size)]\n",
    "\n",
    "final_floor = 0\n",
    "for i, chunk in enumerate(chunks):\n",
    "  result = gold(chunk, final_floor)\n",
    "  if (result['found']):\n",
    "    position = result['position'] + i * chunk_size\n",
    "    print(\"Gold result!\")\n",
    "    print(f\"\\nEnters the basement at position {position}\")\n",
    "    break\n",
    "  else:\n",
    "    final_floor = result['floor']"
   ]
  }
 ],
 "metadata": {
  "kernelspec": {
   "display_name": "env",
   "language": "python",
   "name": "python3"
  },
  "language_info": {
   "codemirror_mode": {
    "name": "ipython",
    "version": 3
   },
   "file_extension": ".py",
   "mimetype": "text/x-python",
   "name": "python",
   "nbconvert_exporter": "python",
   "pygments_lexer": "ipython3",
   "version": "3.13.1"
  }
 },
 "nbformat": 4,
 "nbformat_minor": 2
}
